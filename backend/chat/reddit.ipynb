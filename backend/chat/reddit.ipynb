{
 "cells": [
  {
   "cell_type": "code",
   "execution_count": 8,
   "metadata": {},
   "outputs": [],
   "source": [
    "import json\n",
    "from pathlib import Path\n",
    "import pysolr\n",
    "\n",
    "import pandas as pd\n",
    "\n",
    "PATH = \"\\\\final.pkl\"\n",
    "PATH = str(Path().absolute())+ PATH\n",
    "fo = open(PATH,\"r\")\n",
    "\n",
    "res = pd.read_pickle(PATH)\n",
    "res = res.loc[res['is_submission'] == False]\n"
   ]
  },
  {
   "cell_type": "code",
   "execution_count": 12,
   "metadata": {},
   "outputs": [
    {
     "name": "stderr",
     "output_type": "stream",
     "text": [
      "C:\\Users\\ashis\\AppData\\Local\\Temp\\ipykernel_22436\\1323430379.py:10: SettingWithCopyWarning: \n",
      "A value is trying to be set on a copy of a slice from a DataFrame.\n",
      "Try using .loc[row_indexer,col_indexer] = value instead\n",
      "\n",
      "See the caveats in the documentation: https://pandas.pydata.org/pandas-docs/stable/user_guide/indexing.html#returning-a-view-versus-a-copy\n",
      "  slim_df['response'] = slim_df.apply(lambda row:get_response(row),axis=1)\n"
     ]
    }
   ],
   "source": [
    "slim_df = res[[\"selftext\",\"title\",\"topic\",\"body\",\"parent_body\"]]\n",
    "\n",
    "def get_response(row):\n",
    "    if not pd.isna(row[\"body\"]):\n",
    "        return row[\"body\"]\n",
    "    if not pd.isna(row[\"selftext\"]):\n",
    "        return row[\"selftext\"]\n",
    "    return None\n",
    "\n",
    "slim_df['response'] = slim_df.apply(lambda row:get_response(row),axis=1)"
   ]
  },
  {
   "cell_type": "code",
   "execution_count": 13,
   "metadata": {},
   "outputs": [],
   "source": [
    "slim_df = slim_df[slim_df['parent_body'].notnull()]\n",
    "slim_df = slim_df[['response','parent_body','topic']]\n",
    "slim_df['query'] = slim_df['parent_body']\n",
    "slim_df=slim_df[['query','response','topic']]\n"
   ]
  },
  {
   "cell_type": "code",
   "execution_count": 18,
   "metadata": {},
   "outputs": [],
   "source": [
    "import contractions\n",
    "import re"
   ]
  },
  {
   "cell_type": "code",
   "execution_count": 20,
   "metadata": {},
   "outputs": [],
   "source": [
    "def cleaner(text):    \n",
    "    text = contractions.fix(text)\n",
    "    text = text.replace(\"&gt;\", \"\")\n",
    "    text = text.replace(\"&lt;\", \"\")\n",
    "    text = text.replace(\"\\n\", \" \")\n",
    "\n",
    "    regex_url = r\"(http[^\\s]+)\"\n",
    "    wo_url = re.sub(regex_url,\"\",text)\n",
    "    wo_url = re.sub(r\"#\",\"\",wo_url)\n",
    "    # wo_url = re.sub(r\"(@[^\\s]+)\",\"\",wo_url)\n",
    "    wo_url = re.sub(r\"(@[^\\s]+)\",\"@USER_\",wo_url)\n",
    "\n",
    "    return wo_url\n",
    "\n",
    "\n",
    "\n",
    "slim_df['query'] = slim_df['query'].apply(cleaner)\n",
    "slim_df['response'] = slim_df['response'].apply(cleaner)"
   ]
  },
  {
   "cell_type": "code",
   "execution_count": 22,
   "metadata": {},
   "outputs": [],
   "source": [
    "slim_df.to_pickle('slim.pkl')\n",
    "slim_records = slim_df.to_dict('records')"
   ]
  },
  {
   "cell_type": "code",
   "execution_count": 16,
   "metadata": {},
   "outputs": [],
   "source": [
    "solr = pysolr.Solr('http://34.130.165.83:8983/solr/reddit', always_commit=True,timeout=1100)\n",
    "\n",
    "\n",
    "# print('cleaned_objs',len(slim_records))\n",
    "# cleaned_objs = pd.DataFrame(slim_records)\n",
    "# cleaned_objs.to_pickle('chitchat.pkl')\n",
    "response = solr.add(slim_records)\n",
    "# print(response)\n",
    "\n",
    "fo.close()\n"
   ]
  }
 ],
 "metadata": {
  "kernelspec": {
   "display_name": "Python 3.10.1 64-bit",
   "language": "python",
   "name": "python3"
  },
  "language_info": {
   "codemirror_mode": {
    "name": "ipython",
    "version": 3
   },
   "file_extension": ".py",
   "mimetype": "text/x-python",
   "name": "python",
   "nbconvert_exporter": "python",
   "pygments_lexer": "ipython3",
   "version": "3.10.1"
  },
  "orig_nbformat": 4,
  "vscode": {
   "interpreter": {
    "hash": "d3e10ef16274dd72e574b8fa73b58450b957d8421a2901baded3cca26fcf5dda"
   }
  }
 },
 "nbformat": 4,
 "nbformat_minor": 2
}
