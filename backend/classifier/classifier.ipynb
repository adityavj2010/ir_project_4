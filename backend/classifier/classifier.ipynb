{
 "cells": [
  {
   "cell_type": "code",
   "execution_count": 12,
   "metadata": {},
   "outputs": [],
   "source": [
    "import pandas as pd\n",
    "import numpy as np"
   ]
  },
  {
   "cell_type": "code",
   "execution_count": 13,
   "metadata": {},
   "outputs": [],
   "source": [
    "chitchat_df = pd.read_pickle(\"./chitchat.pkl\")"
   ]
  },
  {
   "cell_type": "code",
   "execution_count": 20,
   "metadata": {},
   "outputs": [
    {
     "data": {
      "text/html": [
       "<div>\n",
       "<style scoped>\n",
       "    .dataframe tbody tr th:only-of-type {\n",
       "        vertical-align: middle;\n",
       "    }\n",
       "\n",
       "    .dataframe tbody tr th {\n",
       "        vertical-align: top;\n",
       "    }\n",
       "\n",
       "    .dataframe thead th {\n",
       "        text-align: right;\n",
       "    }\n",
       "</style>\n",
       "<table border=\"1\" class=\"dataframe\">\n",
       "  <thead>\n",
       "    <tr style=\"text-align: right;\">\n",
       "      <th></th>\n",
       "      <th>query</th>\n",
       "      <th>response</th>\n",
       "      <th>prompt</th>\n",
       "    </tr>\n",
       "  </thead>\n",
       "  <tbody>\n",
       "    <tr>\n",
       "      <th>0</th>\n",
       "      <td>Hello</td>\n",
       "      <td>whats up MD</td>\n",
       "      <td>What's one thing your best friend doesn't know...</td>\n",
       "    </tr>\n",
       "    <tr>\n",
       "      <th>1</th>\n",
       "      <td>How are you doing today?</td>\n",
       "      <td>im doing good</td>\n",
       "      <td>What's one thing your best friend doesn't know...</td>\n",
       "    </tr>\n",
       "    <tr>\n",
       "      <th>2</th>\n",
       "      <td>whats up MD</td>\n",
       "      <td>Im alright, I just took a nap. But it was one ...</td>\n",
       "      <td>What's one thing your best friend doesn't know...</td>\n",
       "    </tr>\n",
       "    <tr>\n",
       "      <th>3</th>\n",
       "      <td>Im alright, I just took a nap. But it was one ...</td>\n",
       "      <td>oh wow haha</td>\n",
       "      <td>What's one thing your best friend doesn't know...</td>\n",
       "    </tr>\n",
       "    <tr>\n",
       "      <th>4</th>\n",
       "      <td>oh wow haha</td>\n",
       "      <td>Yeah</td>\n",
       "      <td>What's one thing your best friend doesn't know...</td>\n",
       "    </tr>\n",
       "  </tbody>\n",
       "</table>\n",
       "</div>"
      ],
      "text/plain": [
       "                                               query  \\\n",
       "0                                              Hello   \n",
       "1                           How are you doing today?   \n",
       "2                                        whats up MD   \n",
       "3  Im alright, I just took a nap. But it was one ...   \n",
       "4                                        oh wow haha   \n",
       "\n",
       "                                            response  \\\n",
       "0                                        whats up MD   \n",
       "1                                      im doing good   \n",
       "2  Im alright, I just took a nap. But it was one ...   \n",
       "3                                        oh wow haha   \n",
       "4                                               Yeah   \n",
       "\n",
       "                                              prompt  \n",
       "0  What's one thing your best friend doesn't know...  \n",
       "1  What's one thing your best friend doesn't know...  \n",
       "2  What's one thing your best friend doesn't know...  \n",
       "3  What's one thing your best friend doesn't know...  \n",
       "4  What's one thing your best friend doesn't know...  "
      ]
     },
     "execution_count": 20,
     "metadata": {},
     "output_type": "execute_result"
    }
   ],
   "source": [
    "chitchat_df.head()"
   ]
  },
  {
   "cell_type": "code",
   "execution_count": 15,
   "metadata": {},
   "outputs": [
    {
     "data": {
      "text/plain": [
       "(166168, 3)"
      ]
     },
     "execution_count": 15,
     "metadata": {},
     "output_type": "execute_result"
    }
   ],
   "source": [
    "chitchat_df.shape"
   ]
  },
  {
   "cell_type": "code",
   "execution_count": 16,
   "metadata": {},
   "outputs": [],
   "source": [
    "cc_new = pd.DataFrame().assign(X=chitchat_df['query'])"
   ]
  },
  {
   "cell_type": "code",
   "execution_count": 18,
   "metadata": {},
   "outputs": [],
   "source": [
    "cc_new[\"Y\"] = 0"
   ]
  },
  {
   "cell_type": "code",
   "execution_count": 19,
   "metadata": {},
   "outputs": [
    {
     "data": {
      "text/html": [
       "<div>\n",
       "<style scoped>\n",
       "    .dataframe tbody tr th:only-of-type {\n",
       "        vertical-align: middle;\n",
       "    }\n",
       "\n",
       "    .dataframe tbody tr th {\n",
       "        vertical-align: top;\n",
       "    }\n",
       "\n",
       "    .dataframe thead th {\n",
       "        text-align: right;\n",
       "    }\n",
       "</style>\n",
       "<table border=\"1\" class=\"dataframe\">\n",
       "  <thead>\n",
       "    <tr style=\"text-align: right;\">\n",
       "      <th></th>\n",
       "      <th>X</th>\n",
       "      <th>Y</th>\n",
       "    </tr>\n",
       "  </thead>\n",
       "  <tbody>\n",
       "    <tr>\n",
       "      <th>0</th>\n",
       "      <td>Hello</td>\n",
       "      <td>0</td>\n",
       "    </tr>\n",
       "    <tr>\n",
       "      <th>1</th>\n",
       "      <td>How are you doing today?</td>\n",
       "      <td>0</td>\n",
       "    </tr>\n",
       "    <tr>\n",
       "      <th>2</th>\n",
       "      <td>whats up MD</td>\n",
       "      <td>0</td>\n",
       "    </tr>\n",
       "    <tr>\n",
       "      <th>3</th>\n",
       "      <td>Im alright, I just took a nap. But it was one ...</td>\n",
       "      <td>0</td>\n",
       "    </tr>\n",
       "    <tr>\n",
       "      <th>4</th>\n",
       "      <td>oh wow haha</td>\n",
       "      <td>0</td>\n",
       "    </tr>\n",
       "  </tbody>\n",
       "</table>\n",
       "</div>"
      ],
      "text/plain": [
       "                                                   X  Y\n",
       "0                                              Hello  0\n",
       "1                           How are you doing today?  0\n",
       "2                                        whats up MD  0\n",
       "3  Im alright, I just took a nap. But it was one ...  0\n",
       "4                                        oh wow haha  0"
      ]
     },
     "execution_count": 19,
     "metadata": {},
     "output_type": "execute_result"
    }
   ],
   "source": [
    "cc_new.head()"
   ]
  },
  {
   "cell_type": "code",
   "execution_count": 21,
   "metadata": {},
   "outputs": [],
   "source": [
    "reddit_df = pd.read_pickle(\"./reddit.pkl\")"
   ]
  },
  {
   "cell_type": "code",
   "execution_count": 37,
   "metadata": {},
   "outputs": [
    {
     "data": {
      "text/html": [
       "<div>\n",
       "<style scoped>\n",
       "    .dataframe tbody tr th:only-of-type {\n",
       "        vertical-align: middle;\n",
       "    }\n",
       "\n",
       "    .dataframe tbody tr th {\n",
       "        vertical-align: top;\n",
       "    }\n",
       "\n",
       "    .dataframe thead th {\n",
       "        text-align: right;\n",
       "    }\n",
       "</style>\n",
       "<table border=\"1\" class=\"dataframe\">\n",
       "  <thead>\n",
       "    <tr style=\"text-align: right;\">\n",
       "      <th></th>\n",
       "      <th>author</th>\n",
       "      <th>created_at</th>\n",
       "      <th>full_link</th>\n",
       "      <th>id</th>\n",
       "      <th>selftext</th>\n",
       "      <th>subreddit</th>\n",
       "      <th>title</th>\n",
       "      <th>topic</th>\n",
       "      <th>is_submission</th>\n",
       "      <th>body</th>\n",
       "      <th>parent_id</th>\n",
       "      <th>permalink</th>\n",
       "      <th>parent_body</th>\n",
       "    </tr>\n",
       "  </thead>\n",
       "  <tbody>\n",
       "    <tr>\n",
       "      <th>0</th>\n",
       "      <td>nightnightgame</td>\n",
       "      <td>2022-03-02T07:32:08Z</td>\n",
       "      <td>https://www.reddit.com/r/explainlikeimfive/com...</td>\n",
       "      <td>t4z4m7</td>\n",
       "      <td>When it has nothing to do with academics? It s...</td>\n",
       "      <td>explainlikeimfive</td>\n",
       "      <td>ELI5 why sports in American educational instit...</td>\n",
       "      <td>Politics</td>\n",
       "      <td>True</td>\n",
       "      <td>NaN</td>\n",
       "      <td>NaN</td>\n",
       "      <td>NaN</td>\n",
       "      <td>NaN</td>\n",
       "    </tr>\n",
       "    <tr>\n",
       "      <th>1</th>\n",
       "      <td>vcic502</td>\n",
       "      <td>2022-03-01T15:52:59Z</td>\n",
       "      <td>https://www.reddit.com/r/explainlikeimfive/com...</td>\n",
       "      <td>t4i1iw</td>\n",
       "      <td>I don't believe in any religion although I don...</td>\n",
       "      <td>explainlikeimfive</td>\n",
       "      <td>ELI5 What is Agnostic Atheism?</td>\n",
       "      <td>Politics</td>\n",
       "      <td>True</td>\n",
       "      <td>NaN</td>\n",
       "      <td>NaN</td>\n",
       "      <td>NaN</td>\n",
       "      <td>NaN</td>\n",
       "    </tr>\n",
       "    <tr>\n",
       "      <th>2</th>\n",
       "      <td>zedd1704</td>\n",
       "      <td>2022-02-26T05:14:38Z</td>\n",
       "      <td>https://www.reddit.com/r/explainlikeimfive/com...</td>\n",
       "      <td>t1tvdg</td>\n",
       "      <td></td>\n",
       "      <td>explainlikeimfive</td>\n",
       "      <td>Eli5: what is left, central and right in polit...</td>\n",
       "      <td>Politics</td>\n",
       "      <td>True</td>\n",
       "      <td>NaN</td>\n",
       "      <td>NaN</td>\n",
       "      <td>NaN</td>\n",
       "      <td>NaN</td>\n",
       "    </tr>\n",
       "    <tr>\n",
       "      <th>3</th>\n",
       "      <td>Vicarious_Paradox</td>\n",
       "      <td>2022-02-20T23:46:51Z</td>\n",
       "      <td>https://www.reddit.com/r/explainlikeimfive/com...</td>\n",
       "      <td>sxkv61</td>\n",
       "      <td>I thought the IOC was supposed to be neutral a...</td>\n",
       "      <td>explainlikeimfive</td>\n",
       "      <td>ELI5: Why is Taiwan called Chinese Taipei at t...</td>\n",
       "      <td>Politics</td>\n",
       "      <td>True</td>\n",
       "      <td>NaN</td>\n",
       "      <td>NaN</td>\n",
       "      <td>NaN</td>\n",
       "      <td>NaN</td>\n",
       "    </tr>\n",
       "    <tr>\n",
       "      <th>4</th>\n",
       "      <td>PerseusUzumacki</td>\n",
       "      <td>2022-02-12T00:01:50Z</td>\n",
       "      <td>https://www.reddit.com/r/explainlikeimfive/com...</td>\n",
       "      <td>sqjgol</td>\n",
       "      <td></td>\n",
       "      <td>explainlikeimfive</td>\n",
       "      <td>ELI5 What does right and left mean in politics?</td>\n",
       "      <td>Politics</td>\n",
       "      <td>True</td>\n",
       "      <td>NaN</td>\n",
       "      <td>NaN</td>\n",
       "      <td>NaN</td>\n",
       "      <td>NaN</td>\n",
       "    </tr>\n",
       "  </tbody>\n",
       "</table>\n",
       "</div>"
      ],
      "text/plain": [
       "              author            created_at  \\\n",
       "0     nightnightgame  2022-03-02T07:32:08Z   \n",
       "1            vcic502  2022-03-01T15:52:59Z   \n",
       "2           zedd1704  2022-02-26T05:14:38Z   \n",
       "3  Vicarious_Paradox  2022-02-20T23:46:51Z   \n",
       "4    PerseusUzumacki  2022-02-12T00:01:50Z   \n",
       "\n",
       "                                           full_link      id  \\\n",
       "0  https://www.reddit.com/r/explainlikeimfive/com...  t4z4m7   \n",
       "1  https://www.reddit.com/r/explainlikeimfive/com...  t4i1iw   \n",
       "2  https://www.reddit.com/r/explainlikeimfive/com...  t1tvdg   \n",
       "3  https://www.reddit.com/r/explainlikeimfive/com...  sxkv61   \n",
       "4  https://www.reddit.com/r/explainlikeimfive/com...  sqjgol   \n",
       "\n",
       "                                            selftext          subreddit  \\\n",
       "0  When it has nothing to do with academics? It s...  explainlikeimfive   \n",
       "1  I don't believe in any religion although I don...  explainlikeimfive   \n",
       "2                                                     explainlikeimfive   \n",
       "3  I thought the IOC was supposed to be neutral a...  explainlikeimfive   \n",
       "4                                                     explainlikeimfive   \n",
       "\n",
       "                                               title     topic  is_submission  \\\n",
       "0  ELI5 why sports in American educational instit...  Politics           True   \n",
       "1                     ELI5 What is Agnostic Atheism?  Politics           True   \n",
       "2  Eli5: what is left, central and right in polit...  Politics           True   \n",
       "3  ELI5: Why is Taiwan called Chinese Taipei at t...  Politics           True   \n",
       "4    ELI5 What does right and left mean in politics?  Politics           True   \n",
       "\n",
       "  body parent_id permalink parent_body  \n",
       "0  NaN       NaN       NaN         NaN  \n",
       "1  NaN       NaN       NaN         NaN  \n",
       "2  NaN       NaN       NaN         NaN  \n",
       "3  NaN       NaN       NaN         NaN  \n",
       "4  NaN       NaN       NaN         NaN  "
      ]
     },
     "execution_count": 37,
     "metadata": {},
     "output_type": "execute_result"
    }
   ],
   "source": [
    "reddit_df.head()"
   ]
  },
  {
   "cell_type": "code",
   "execution_count": 56,
   "metadata": {},
   "outputs": [
    {
     "data": {
      "text/plain": [
       "0      When it has nothing to do with academics? It s...\n",
       "1      I don't believe in any religion although I don...\n",
       "2                                                       \n",
       "3      I thought the IOC was supposed to be neutral a...\n",
       "4                                                       \n",
       "                             ...                        \n",
       "294                                                     \n",
       "295                                                     \n",
       "296                                                     \n",
       "297                                                     \n",
       "298                                                     \n",
       "Name: selftext, Length: 4276, dtype: object"
      ]
     },
     "execution_count": 56,
     "metadata": {},
     "output_type": "execute_result"
    }
   ],
   "source": [
    "reddit_df.loc[reddit_df['is_submission'] == True][\"selftext\"]"
   ]
  },
  {
   "cell_type": "code",
   "execution_count": 71,
   "metadata": {},
   "outputs": [
    {
     "data": {
      "text/plain": [
       "0                                                    ??\n",
       "1     That’s what I thought. I’m sorry things haven’...\n",
       "2            Nah i really don't care enough about this.\n",
       "3                Let’s hear your counter-argument then.\n",
       "4     Yeah i don't support the premise anyways: i do...\n",
       "                            ...                        \n",
       "33                         Without access to water tho?\n",
       "34    People have been on this earth for thousands o...\n",
       "35    Dubai is an exercise in excess and hubris. Wit...\n",
       "36    To add on to your answer: For the places that ...\n",
       "37    Not really. Populations in those areas were mu...\n",
       "Name: body, Length: 40022, dtype: object"
      ]
     },
     "execution_count": 71,
     "metadata": {},
     "output_type": "execute_result"
    }
   ],
   "source": [
    "reddit_df.loc[reddit_df['is_submission'] == False][\"body\"]"
   ]
  },
  {
   "cell_type": "code",
   "execution_count": 57,
   "metadata": {},
   "outputs": [
    {
     "data": {
      "text/plain": [
       "4276"
      ]
     },
     "execution_count": 57,
     "metadata": {},
     "output_type": "execute_result"
    }
   ],
   "source": [
    "# reddit_df['selftext'].isna().sum()\n",
    "val = reddit_df['body'].isna().sum()\n",
    "val"
   ]
  },
  {
   "cell_type": "code",
   "execution_count": 59,
   "metadata": {},
   "outputs": [],
   "source": [
    "reddit_new = pd.DataFrame().assign(X=reddit_df['selftext'])\n"
   ]
  },
  {
   "cell_type": "code",
   "execution_count": 68,
   "metadata": {},
   "outputs": [
    {
     "data": {
      "text/html": [
       "<div>\n",
       "<style scoped>\n",
       "    .dataframe tbody tr th:only-of-type {\n",
       "        vertical-align: middle;\n",
       "    }\n",
       "\n",
       "    .dataframe tbody tr th {\n",
       "        vertical-align: top;\n",
       "    }\n",
       "\n",
       "    .dataframe thead th {\n",
       "        text-align: right;\n",
       "    }\n",
       "</style>\n",
       "<table border=\"1\" class=\"dataframe\">\n",
       "  <thead>\n",
       "    <tr style=\"text-align: right;\">\n",
       "      <th></th>\n",
       "    </tr>\n",
       "  </thead>\n",
       "  <tbody>\n",
       "    <tr>\n",
       "      <th>0</th>\n",
       "    </tr>\n",
       "    <tr>\n",
       "      <th>1</th>\n",
       "    </tr>\n",
       "    <tr>\n",
       "      <th>2</th>\n",
       "    </tr>\n",
       "    <tr>\n",
       "      <th>3</th>\n",
       "    </tr>\n",
       "    <tr>\n",
       "      <th>4</th>\n",
       "    </tr>\n",
       "    <tr>\n",
       "      <th>...</th>\n",
       "    </tr>\n",
       "    <tr>\n",
       "      <th>33</th>\n",
       "    </tr>\n",
       "    <tr>\n",
       "      <th>34</th>\n",
       "    </tr>\n",
       "    <tr>\n",
       "      <th>35</th>\n",
       "    </tr>\n",
       "    <tr>\n",
       "      <th>36</th>\n",
       "    </tr>\n",
       "    <tr>\n",
       "      <th>37</th>\n",
       "    </tr>\n",
       "  </tbody>\n",
       "</table>\n",
       "<p>44298 rows × 0 columns</p>\n",
       "</div>"
      ],
      "text/plain": [
       "Empty DataFrame\n",
       "Columns: []\n",
       "Index: [0, 1, 2, 3, 4, 5, 6, 7, 8, 9, 10, 11, 12, 13, 14, 16, 17, 18, 19, 20, 21, 22, 23, 24, 25, 26, 27, 28, 29, 30, 31, 32, 33, 34, 35, 36, 37, 38, 39, 40, 41, 42, 43, 44, 45, 46, 47, 48, 49, 50, 51, 52, 53, 54, 55, 56, 58, 59, 60, 61, 62, 63, 64, 65, 66, 67, 68, 69, 70, 71, 72, 73, 74, 75, 76, 77, 78, 79, 80, 81, 82, 83, 84, 85, 86, 87, 88, 89, 90, 91, 92, 93, 94, 95, 96, 97, 98, 99, 100, 101, ...]\n",
       "\n",
       "[44298 rows x 0 columns]"
      ]
     },
     "execution_count": 68,
     "metadata": {},
     "output_type": "execute_result"
    }
   ],
   "source": [
    "reddit_new.drop(['X'], axis = 1)"
   ]
  },
  {
   "cell_type": "code",
   "execution_count": 73,
   "metadata": {},
   "outputs": [],
   "source": [
    "body = []\n",
    "selftext = []\n",
    "for index, row in reddit_df.iterrows():\n",
    "    if row['is_submission'] == True:\n",
    "        selftext.append(row[\"selftext\"])\n",
    "    else:\n",
    "        body.append(row[\"body\"]) "
   ]
  },
  {
   "cell_type": "code",
   "execution_count": 82,
   "metadata": {},
   "outputs": [],
   "source": [
    "l = selftext + body"
   ]
  },
  {
   "cell_type": "code",
   "execution_count": 84,
   "metadata": {},
   "outputs": [],
   "source": [
    "reddit_new = pd.DataFrame({\"X\": l})"
   ]
  },
  {
   "cell_type": "code",
   "execution_count": 90,
   "metadata": {},
   "outputs": [],
   "source": [
    "reddit_new[\"Y\"] = 1"
   ]
  },
  {
   "cell_type": "code",
   "execution_count": 93,
   "metadata": {},
   "outputs": [],
   "source": [
    "res_df = pd.concat([cc_new, reddit_new])"
   ]
  },
  {
   "cell_type": "code",
   "execution_count": 104,
   "metadata": {},
   "outputs": [
    {
     "data": {
      "text/html": [
       "<div>\n",
       "<style scoped>\n",
       "    .dataframe tbody tr th:only-of-type {\n",
       "        vertical-align: middle;\n",
       "    }\n",
       "\n",
       "    .dataframe tbody tr th {\n",
       "        vertical-align: top;\n",
       "    }\n",
       "\n",
       "    .dataframe thead th {\n",
       "        text-align: right;\n",
       "    }\n",
       "</style>\n",
       "<table border=\"1\" class=\"dataframe\">\n",
       "  <thead>\n",
       "    <tr style=\"text-align: right;\">\n",
       "      <th></th>\n",
       "      <th>X</th>\n",
       "      <th>Y</th>\n",
       "    </tr>\n",
       "  </thead>\n",
       "  <tbody>\n",
       "    <tr>\n",
       "      <th>0</th>\n",
       "      <td>Hello</td>\n",
       "      <td>0</td>\n",
       "    </tr>\n",
       "    <tr>\n",
       "      <th>1</th>\n",
       "      <td>How are you doing today?</td>\n",
       "      <td>0</td>\n",
       "    </tr>\n",
       "    <tr>\n",
       "      <th>2</th>\n",
       "      <td>whats up MD</td>\n",
       "      <td>0</td>\n",
       "    </tr>\n",
       "    <tr>\n",
       "      <th>3</th>\n",
       "      <td>Im alright, I just took a nap. But it was one ...</td>\n",
       "      <td>0</td>\n",
       "    </tr>\n",
       "    <tr>\n",
       "      <th>4</th>\n",
       "      <td>oh wow haha</td>\n",
       "      <td>0</td>\n",
       "    </tr>\n",
       "    <tr>\n",
       "      <th>...</th>\n",
       "      <td>...</td>\n",
       "      <td>...</td>\n",
       "    </tr>\n",
       "    <tr>\n",
       "      <th>44293</th>\n",
       "      <td>Without access to water tho?</td>\n",
       "      <td>1</td>\n",
       "    </tr>\n",
       "    <tr>\n",
       "      <th>44294</th>\n",
       "      <td>People have been on this earth for thousands o...</td>\n",
       "      <td>1</td>\n",
       "    </tr>\n",
       "    <tr>\n",
       "      <th>44295</th>\n",
       "      <td>Dubai is an exercise in excess and hubris. Wit...</td>\n",
       "      <td>1</td>\n",
       "    </tr>\n",
       "    <tr>\n",
       "      <th>44296</th>\n",
       "      <td>To add on to your answer: For the places that ...</td>\n",
       "      <td>1</td>\n",
       "    </tr>\n",
       "    <tr>\n",
       "      <th>44297</th>\n",
       "      <td>Not really. Populations in those areas were mu...</td>\n",
       "      <td>1</td>\n",
       "    </tr>\n",
       "  </tbody>\n",
       "</table>\n",
       "<p>210466 rows × 2 columns</p>\n",
       "</div>"
      ],
      "text/plain": [
       "                                                       X  Y\n",
       "0                                                  Hello  0\n",
       "1                               How are you doing today?  0\n",
       "2                                            whats up MD  0\n",
       "3      Im alright, I just took a nap. But it was one ...  0\n",
       "4                                            oh wow haha  0\n",
       "...                                                  ... ..\n",
       "44293                       Without access to water tho?  1\n",
       "44294  People have been on this earth for thousands o...  1\n",
       "44295  Dubai is an exercise in excess and hubris. Wit...  1\n",
       "44296  To add on to your answer: For the places that ...  1\n",
       "44297  Not really. Populations in those areas were mu...  1\n",
       "\n",
       "[210466 rows x 2 columns]"
      ]
     },
     "execution_count": 104,
     "metadata": {},
     "output_type": "execute_result"
    }
   ],
   "source": [
    "res_df"
   ]
  },
  {
   "cell_type": "code",
   "execution_count": 98,
   "metadata": {},
   "outputs": [],
   "source": [
    "res_df.to_csv(r'A:\\MS2021\\SUNY BUFFALO\\Third sem\\Info Retrieval\\Project 4\\ir_project_4\\backend\\classifier\\data.csv', header=None, index=None, sep=' ', mode='a')"
   ]
  }
 ],
 "metadata": {
  "kernelspec": {
   "display_name": "Python 3.10.1 64-bit",
   "language": "python",
   "name": "python3"
  },
  "language_info": {
   "codemirror_mode": {
    "name": "ipython",
    "version": 3
   },
   "file_extension": ".py",
   "mimetype": "text/x-python",
   "name": "python",
   "nbconvert_exporter": "python",
   "pygments_lexer": "ipython3",
   "version": "3.10.1"
  },
  "orig_nbformat": 4,
  "vscode": {
   "interpreter": {
    "hash": "d3e10ef16274dd72e574b8fa73b58450b957d8421a2901baded3cca26fcf5dda"
   }
  }
 },
 "nbformat": 4,
 "nbformat_minor": 2
}
