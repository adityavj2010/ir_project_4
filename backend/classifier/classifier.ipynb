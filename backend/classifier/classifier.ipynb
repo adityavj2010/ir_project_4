{
 "cells": [
  {
   "cell_type": "code",
   "execution_count": null,
   "metadata": {},
   "outputs": [],
   "source": [
    "import pandas as pd\n",
    "import numpy as np\n",
    "from nltk.corpus import stopwords\n",
    "from nltk.tokenize import word_tokenize"
   ]
  },
  {
   "cell_type": "code",
   "execution_count": null,
   "metadata": {},
   "outputs": [],
   "source": [
    "chitchat_df = pd.read_pickle(\"./chitchat.pkl\")"
   ]
  },
  {
   "cell_type": "code",
   "execution_count": null,
   "metadata": {},
   "outputs": [],
   "source": [
    "chitchat_df.head()"
   ]
  },
  {
   "cell_type": "code",
   "execution_count": null,
   "metadata": {},
   "outputs": [],
   "source": [
    "chitchat_df.drop(['prompt'], axis=1, inplace=True)"
   ]
  },
  {
   "cell_type": "code",
   "execution_count": null,
   "metadata": {},
   "outputs": [],
   "source": [
    "chitchat_df\n"
   ]
  },
  {
   "cell_type": "code",
   "execution_count": null,
   "metadata": {},
   "outputs": [],
   "source": [
    "cc_new = pd.DataFrame().assign(X=chitchat_df['query'])"
   ]
  },
  {
   "cell_type": "code",
   "execution_count": null,
   "metadata": {},
   "outputs": [],
   "source": [
    "cc_new[\"Y\"] = 0"
   ]
  },
  {
   "cell_type": "code",
   "execution_count": null,
   "metadata": {},
   "outputs": [],
   "source": [
    "cc_new = cc_new[[\"Y\" ,\"X\"]]"
   ]
  },
  {
   "cell_type": "code",
   "execution_count": null,
   "metadata": {},
   "outputs": [],
   "source": [
    "cc_new.head()"
   ]
  },
  {
   "cell_type": "code",
   "execution_count": null,
   "metadata": {},
   "outputs": [],
   "source": [
    "reddit_df = pd.read_pickle(\"./reddit.pkl\")"
   ]
  },
  {
   "cell_type": "code",
   "execution_count": null,
   "metadata": {},
   "outputs": [],
   "source": [
    "reddit_df.head()"
   ]
  },
  {
   "cell_type": "code",
   "execution_count": null,
   "metadata": {},
   "outputs": [],
   "source": [
    "reddit_df.shape[0] - reddit_df['selftext'].isna().sum()"
   ]
  },
  {
   "cell_type": "code",
   "execution_count": null,
   "metadata": {},
   "outputs": [],
   "source": [
    "reddit_df = reddit_df.loc[reddit_df['is_submission'] == False][[\"parent_body\",\"body\"]]"
   ]
  },
  {
   "cell_type": "code",
   "execution_count": null,
   "metadata": {},
   "outputs": [],
   "source": [
    "reddit_df.head(50)"
   ]
  },
  {
   "cell_type": "code",
   "execution_count": null,
   "metadata": {},
   "outputs": [],
   "source": [
    "reddit_df.rename(columns={\"parent_body\": \"query\", \"body\": \"response\"}, inplace=True)"
   ]
  },
  {
   "cell_type": "code",
   "execution_count": null,
   "metadata": {},
   "outputs": [],
   "source": [
    "merged_qr_df = pd.concat([chitchat_df, reddit_df])"
   ]
  },
  {
   "cell_type": "code",
   "execution_count": null,
   "metadata": {},
   "outputs": [],
   "source": [
    "merged_qr_df"
   ]
  },
  {
   "cell_type": "code",
   "execution_count": null,
   "metadata": {},
   "outputs": [],
   "source": [
    "reddit_new = pd.DataFrame().assign(X=reddit_df['parent_body'])"
   ]
  },
  {
   "cell_type": "code",
   "execution_count": null,
   "metadata": {},
   "outputs": [],
   "source": [
    "reddit_new = pd.DataFrame().assign(X=reddit_df['query'])"
   ]
  },
  {
   "cell_type": "code",
   "execution_count": null,
   "metadata": {},
   "outputs": [],
   "source": [
    "reddit_new[\"Y\"] = 1"
   ]
  },
  {
   "cell_type": "code",
   "execution_count": 421,
   "metadata": {},
   "outputs": [],
   "source": [
    "reddit_new = reddit_new[[\"Y\", \"X\"]]"
   ]
  },
  {
   "cell_type": "code",
   "execution_count": 423,
   "metadata": {},
   "outputs": [
    {
     "data": {
      "text/html": [
       "<div>\n",
       "<style scoped>\n",
       "    .dataframe tbody tr th:only-of-type {\n",
       "        vertical-align: middle;\n",
       "    }\n",
       "\n",
       "    .dataframe tbody tr th {\n",
       "        vertical-align: top;\n",
       "    }\n",
       "\n",
       "    .dataframe thead th {\n",
       "        text-align: right;\n",
       "    }\n",
       "</style>\n",
       "<table border=\"1\" class=\"dataframe\">\n",
       "  <thead>\n",
       "    <tr style=\"text-align: right;\">\n",
       "      <th></th>\n",
       "      <th>Y</th>\n",
       "      <th>X</th>\n",
       "    </tr>\n",
       "  </thead>\n",
       "  <tbody>\n",
       "    <tr>\n",
       "      <th>0</th>\n",
       "      <td>1</td>\n",
       "      <td>That’s what I thought. I’m sorry things haven’...</td>\n",
       "    </tr>\n",
       "    <tr>\n",
       "      <th>1</th>\n",
       "      <td>1</td>\n",
       "      <td>Nah i really don't care enough about this.</td>\n",
       "    </tr>\n",
       "    <tr>\n",
       "      <th>2</th>\n",
       "      <td>1</td>\n",
       "      <td>Let’s hear your counter-argument then.</td>\n",
       "    </tr>\n",
       "    <tr>\n",
       "      <th>3</th>\n",
       "      <td>1</td>\n",
       "      <td>Yeah i don't support the premise anyways: i do...</td>\n",
       "    </tr>\n",
       "    <tr>\n",
       "      <th>4</th>\n",
       "      <td>1</td>\n",
       "      <td>Your premise is invalid, which invalidates you...</td>\n",
       "    </tr>\n",
       "    <tr>\n",
       "      <th>...</th>\n",
       "      <td>...</td>\n",
       "      <td>...</td>\n",
       "    </tr>\n",
       "    <tr>\n",
       "      <th>33</th>\n",
       "      <td>1</td>\n",
       "      <td>People have been on this earth for thousands o...</td>\n",
       "    </tr>\n",
       "    <tr>\n",
       "      <th>34</th>\n",
       "      <td>1</td>\n",
       "      <td>So I was wasting time on Google Maps as usual ...</td>\n",
       "    </tr>\n",
       "    <tr>\n",
       "      <th>35</th>\n",
       "      <td>1</td>\n",
       "      <td>So I was wasting time on Google Maps as usual ...</td>\n",
       "    </tr>\n",
       "    <tr>\n",
       "      <th>36</th>\n",
       "      <td>1</td>\n",
       "      <td>Not really. Populations in those areas were mu...</td>\n",
       "    </tr>\n",
       "    <tr>\n",
       "      <th>37</th>\n",
       "      <td>1</td>\n",
       "      <td>So I was wasting time on Google Maps as usual ...</td>\n",
       "    </tr>\n",
       "  </tbody>\n",
       "</table>\n",
       "<p>40022 rows × 2 columns</p>\n",
       "</div>"
      ],
      "text/plain": [
       "    Y                                                  X\n",
       "0   1  That’s what I thought. I’m sorry things haven’...\n",
       "1   1         Nah i really don't care enough about this.\n",
       "2   1             Let’s hear your counter-argument then.\n",
       "3   1  Yeah i don't support the premise anyways: i do...\n",
       "4   1  Your premise is invalid, which invalidates you...\n",
       ".. ..                                                ...\n",
       "33  1  People have been on this earth for thousands o...\n",
       "34  1  So I was wasting time on Google Maps as usual ...\n",
       "35  1  So I was wasting time on Google Maps as usual ...\n",
       "36  1  Not really. Populations in those areas were mu...\n",
       "37  1  So I was wasting time on Google Maps as usual ...\n",
       "\n",
       "[40022 rows x 2 columns]"
      ]
     },
     "execution_count": 423,
     "metadata": {},
     "output_type": "execute_result"
    }
   ],
   "source": [
    "reddit_new"
   ]
  },
  {
   "cell_type": "code",
   "execution_count": null,
   "metadata": {},
   "outputs": [],
   "source": [
    "reddit_new.tail(30)"
   ]
  },
  {
   "cell_type": "code",
   "execution_count": null,
   "metadata": {},
   "outputs": [],
   "source": [
    "reddit_df.loc[reddit_df['is_submission'] == False][\"body\"]"
   ]
  },
  {
   "cell_type": "code",
   "execution_count": null,
   "metadata": {},
   "outputs": [],
   "source": [
    "# reddit_df['selftext'].isna().sum()\n",
    "val = reddit_df['body'].isna().sum()\n",
    "val"
   ]
  },
  {
   "cell_type": "code",
   "execution_count": null,
   "metadata": {},
   "outputs": [],
   "source": [
    "reddit_new = pd.DataFrame().assign(X=reddit_df['selftext'])\n"
   ]
  },
  {
   "cell_type": "code",
   "execution_count": 424,
   "metadata": {},
   "outputs": [],
   "source": [
    "res_df = pd.concat([reddit_new, cc_new])\n",
    "res_df.drop_duplicates(inplace=True)"
   ]
  },
  {
   "cell_type": "code",
   "execution_count": 425,
   "metadata": {},
   "outputs": [
    {
     "data": {
      "text/html": [
       "<div>\n",
       "<style scoped>\n",
       "    .dataframe tbody tr th:only-of-type {\n",
       "        vertical-align: middle;\n",
       "    }\n",
       "\n",
       "    .dataframe tbody tr th {\n",
       "        vertical-align: top;\n",
       "    }\n",
       "\n",
       "    .dataframe thead th {\n",
       "        text-align: right;\n",
       "    }\n",
       "</style>\n",
       "<table border=\"1\" class=\"dataframe\">\n",
       "  <thead>\n",
       "    <tr style=\"text-align: right;\">\n",
       "      <th></th>\n",
       "      <th>Y</th>\n",
       "      <th>X</th>\n",
       "    </tr>\n",
       "  </thead>\n",
       "  <tbody>\n",
       "    <tr>\n",
       "      <th>0</th>\n",
       "      <td>1</td>\n",
       "      <td>That’s what I thought. I’m sorry things haven’...</td>\n",
       "    </tr>\n",
       "    <tr>\n",
       "      <th>1</th>\n",
       "      <td>1</td>\n",
       "      <td>Nah i really don't care enough about this.</td>\n",
       "    </tr>\n",
       "    <tr>\n",
       "      <th>2</th>\n",
       "      <td>1</td>\n",
       "      <td>Let’s hear your counter-argument then.</td>\n",
       "    </tr>\n",
       "    <tr>\n",
       "      <th>3</th>\n",
       "      <td>1</td>\n",
       "      <td>Yeah i don't support the premise anyways: i do...</td>\n",
       "    </tr>\n",
       "    <tr>\n",
       "      <th>4</th>\n",
       "      <td>1</td>\n",
       "      <td>Your premise is invalid, which invalidates you...</td>\n",
       "    </tr>\n",
       "    <tr>\n",
       "      <th>...</th>\n",
       "      <td>...</td>\n",
       "      <td>...</td>\n",
       "    </tr>\n",
       "    <tr>\n",
       "      <th>166163</th>\n",
       "      <td>0</td>\n",
       "      <td>12 miles is solid.</td>\n",
       "    </tr>\n",
       "    <tr>\n",
       "      <th>166164</th>\n",
       "      <td>0</td>\n",
       "      <td>Oh man that's too bad, I'll take lots of pictu...</td>\n",
       "    </tr>\n",
       "    <tr>\n",
       "      <th>166165</th>\n",
       "      <td>0</td>\n",
       "      <td>Hey as long as you have water and time, the hi...</td>\n",
       "    </tr>\n",
       "    <tr>\n",
       "      <th>166166</th>\n",
       "      <td>0</td>\n",
       "      <td>That is so true, I hear you can pay like three...</td>\n",
       "    </tr>\n",
       "    <tr>\n",
       "      <th>166167</th>\n",
       "      <td>0</td>\n",
       "      <td>Haha this definitely is a play off the movie w...</td>\n",
       "    </tr>\n",
       "  </tbody>\n",
       "</table>\n",
       "<p>163695 rows × 2 columns</p>\n",
       "</div>"
      ],
      "text/plain": [
       "        Y                                                  X\n",
       "0       1  That’s what I thought. I’m sorry things haven’...\n",
       "1       1         Nah i really don't care enough about this.\n",
       "2       1             Let’s hear your counter-argument then.\n",
       "3       1  Yeah i don't support the premise anyways: i do...\n",
       "4       1  Your premise is invalid, which invalidates you...\n",
       "...    ..                                                ...\n",
       "166163  0                                 12 miles is solid.\n",
       "166164  0  Oh man that's too bad, I'll take lots of pictu...\n",
       "166165  0  Hey as long as you have water and time, the hi...\n",
       "166166  0  That is so true, I hear you can pay like three...\n",
       "166167  0  Haha this definitely is a play off the movie w...\n",
       "\n",
       "[163695 rows x 2 columns]"
      ]
     },
     "execution_count": 425,
     "metadata": {},
     "output_type": "execute_result"
    }
   ],
   "source": [
    "res_df"
   ]
  },
  {
   "cell_type": "code",
   "execution_count": 426,
   "metadata": {},
   "outputs": [],
   "source": [
    "import collections\n",
    "from nltk.stem import PorterStemmer\n",
    "import re\n",
    "import contractions"
   ]
  },
  {
   "cell_type": "code",
   "execution_count": 427,
   "metadata": {},
   "outputs": [],
   "source": [
    "data = []\n",
    "def remove_emojis(data):\n",
    "        emoj = re.compile(\"[\"\n",
    "            u\"\\U0001F600-\\U0001F64F\"  # emoticons\n",
    "            u\"\\U0001F300-\\U0001F5FF\"  # symbols & pictographs\n",
    "            u\"\\U0001F680-\\U0001F6FF\"  # transport & map symbols\n",
    "            u\"\\U0001F1E0-\\U0001F1FF\"  # flags (iOS)\n",
    "            u\"\\U00002500-\\U00002BEF\"  # chinese char\n",
    "            u\"\\U00002702-\\U000027B0\"\n",
    "            u\"\\U00002702-\\U000027B0\"\n",
    "            u\"\\U000024C2-\\U0001F251\"\n",
    "            u\"\\U0001f926-\\U0001f937\"\n",
    "            u\"\\U00010000-\\U0010ffff\"\n",
    "            u\"\\u2640-\\u2642\" \n",
    "            u\"\\u2600-\\u2B55\"\n",
    "            u\"\\u200d\"\n",
    "            u\"\\u23cf\"\n",
    "            u\"\\u23e9\"\n",
    "            u\"\\u231a\"\n",
    "            u\"\\ufe0f\"  # dingbats\n",
    "            u\"\\u3030\"\n",
    "                        \"]+\", re.UNICODE)\n",
    "        return re.sub(emoj, '', data)\n",
    "\n",
    "for index, rows in res_df.iterrows():\n",
    "    text = rows[\"X\"]\n",
    "    text = contractions.fix(text)\n",
    "    if \"&gt;\" in text:\n",
    "       text = text.replace(\"&gt;\", \"\")\n",
    "    if \"&lt:\" in text:\n",
    "        text = text.replace(\"&lt;\", \"\")\n",
    "\n",
    "    regex_url = r\"(http[^\\s]+)\"\n",
    "    wo_url = re.sub(regex_url,\"\",text)\n",
    "    wo_url = re.sub(r\"#\",\"\",wo_url)\n",
    "    # wo_url = re.sub(r\"(@[^\\s]+)\",\"\",wo_url)\n",
    "    wo_url = re.sub(r\"(@[^\\s]+)\",\"@USER_\",wo_url)\n",
    "\n",
    "    all_emoticons = [':/',':l',':-)','-.-',':::---))))','&lt;',\":'(\",'-_-',':)','xx','xxx',';-)',':(',':-/',':)', ';)', ':o)', ':]', ':3', ':c)', ':>', '=]', '8)', '=)', ':}',\n",
    "            ':^)', ':-D', ':D', '8-D', '8D', 'x-D', 'xD', 'X-D', 'XD', '=-D', '=D','d:',':-l','&lt;3',\n",
    "            '=-3', '=3', ':-))', \":'-)\", \":')\", ':*', ':^*', '>:P', ':-P', ':P', 'X-P',':|','o_o',';)',\n",
    "            'x-p', 'xp', 'XP', ':-p', ':p', '=p', ':-b', ':b', '>:)', '>;)', '>:-)',':-0','-__-',':(((',\n",
    "            '<3'':L', ':-/', '>:/', ':S', '>:[', ':@', ':-(', ':[', ':-||', '=L', ':<',\n",
    "            ':-[', ':-<', '=/', '>:(', ':(', '>.<', \":'-(\", \":'(\",  ':-c',\n",
    "            ':c', ':{',  ';(', \"=\\\\\", \">:\\\\\", ':\\\\']\n",
    "        \n",
    "    a = wo_url\n",
    "    for i in all_emoticons:\n",
    "        a = a.replace(i,'')\n",
    "        a = remove_emojis(a)\n",
    "        a = \" \".join(a.split())\n",
    "\n",
    "    data.append(a)  \n",
    "    # print(wo_url)"
   ]
  },
  {
   "cell_type": "code",
   "execution_count": 429,
   "metadata": {},
   "outputs": [],
   "source": [
    "data_y = []\n",
    "for index, rows in res_df.iterrows():\n",
    "    data_y.append(rows[\"Y\"])"
   ]
  },
  {
   "cell_type": "code",
   "execution_count": 430,
   "metadata": {},
   "outputs": [],
   "source": [
    "new_res = pd.DataFrame({\"Y\": data_y, \"X\":data})\n",
    "# new_res.columns = [\"X\", \"Y\"]\n",
    "# new_res = new_res[[\"Y\", \"X\"]]"
   ]
  },
  {
   "cell_type": "code",
   "execution_count": 431,
   "metadata": {},
   "outputs": [
    {
     "data": {
      "text/html": [
       "<div>\n",
       "<style scoped>\n",
       "    .dataframe tbody tr th:only-of-type {\n",
       "        vertical-align: middle;\n",
       "    }\n",
       "\n",
       "    .dataframe tbody tr th {\n",
       "        vertical-align: top;\n",
       "    }\n",
       "\n",
       "    .dataframe thead th {\n",
       "        text-align: right;\n",
       "    }\n",
       "</style>\n",
       "<table border=\"1\" class=\"dataframe\">\n",
       "  <thead>\n",
       "    <tr style=\"text-align: right;\">\n",
       "      <th></th>\n",
       "      <th>Y</th>\n",
       "      <th>X</th>\n",
       "    </tr>\n",
       "  </thead>\n",
       "  <tbody>\n",
       "    <tr>\n",
       "      <th>0</th>\n",
       "      <td>1</td>\n",
       "      <td>That is what I thought. I am sorry things have...</td>\n",
       "    </tr>\n",
       "    <tr>\n",
       "      <th>1</th>\n",
       "      <td>1</td>\n",
       "      <td>Nah i really do not care enough about this.</td>\n",
       "    </tr>\n",
       "    <tr>\n",
       "      <th>2</th>\n",
       "      <td>1</td>\n",
       "      <td>Let us hear your counter-argument then.</td>\n",
       "    </tr>\n",
       "    <tr>\n",
       "      <th>3</th>\n",
       "      <td>1</td>\n",
       "      <td>Yeah i do not support the premise anyways: i d...</td>\n",
       "    </tr>\n",
       "    <tr>\n",
       "      <th>4</th>\n",
       "      <td>1</td>\n",
       "      <td>Your premise is invalid, which invalidates you...</td>\n",
       "    </tr>\n",
       "    <tr>\n",
       "      <th>...</th>\n",
       "      <td>...</td>\n",
       "      <td>...</td>\n",
       "    </tr>\n",
       "    <tr>\n",
       "      <th>163690</th>\n",
       "      <td>0</td>\n",
       "      <td>12 miles is solid.</td>\n",
       "    </tr>\n",
       "    <tr>\n",
       "      <th>163691</th>\n",
       "      <td>0</td>\n",
       "      <td>Oh man that is too bad, I will take lots of pi...</td>\n",
       "    </tr>\n",
       "    <tr>\n",
       "      <th>163692</th>\n",
       "      <td>0</td>\n",
       "      <td>Hey as long as you have water and time, the hi...</td>\n",
       "    </tr>\n",
       "    <tr>\n",
       "      <th>163693</th>\n",
       "      <td>0</td>\n",
       "      <td>That is so true, I hear you can pay like three...</td>\n",
       "    </tr>\n",
       "    <tr>\n",
       "      <th>163694</th>\n",
       "      <td>0</td>\n",
       "      <td>Haha this definitely is a play off the movie w...</td>\n",
       "    </tr>\n",
       "  </tbody>\n",
       "</table>\n",
       "<p>163695 rows × 2 columns</p>\n",
       "</div>"
      ],
      "text/plain": [
       "        Y                                                  X\n",
       "0       1  That is what I thought. I am sorry things have...\n",
       "1       1        Nah i really do not care enough about this.\n",
       "2       1            Let us hear your counter-argument then.\n",
       "3       1  Yeah i do not support the premise anyways: i d...\n",
       "4       1  Your premise is invalid, which invalidates you...\n",
       "...    ..                                                ...\n",
       "163690  0                                 12 miles is solid.\n",
       "163691  0  Oh man that is too bad, I will take lots of pi...\n",
       "163692  0  Hey as long as you have water and time, the hi...\n",
       "163693  0  That is so true, I hear you can pay like three...\n",
       "163694  0  Haha this definitely is a play off the movie w...\n",
       "\n",
       "[163695 rows x 2 columns]"
      ]
     },
     "execution_count": 431,
     "metadata": {},
     "output_type": "execute_result"
    }
   ],
   "source": [
    "new_res"
   ]
  },
  {
   "cell_type": "code",
   "execution_count": 420,
   "metadata": {},
   "outputs": [],
   "source": [
    "new_res.to_csv(r'A:\\MS2021\\SUNY BUFFALO\\Third sem\\Info Retrieval\\Project 4\\ir_project_4\\backend\\classifier\\data.csv', header=None, index=None, sep=' ', mode='a')"
   ]
  },
  {
   "cell_type": "code",
   "execution_count": null,
   "metadata": {},
   "outputs": [],
   "source": [
    "def classify_0_1(text):\n",
    "    # text is a str\n",
    "    smallWords = stopwords.words('english')\n",
    "    # wordlist = list(smallWords.split( ))\n",
    "    # n = len(wordlist)\n",
    "    \n",
    "    return 0\n",
    "\n",
    "    "
   ]
  },
  {
   "cell_type": "code",
   "execution_count": null,
   "metadata": {},
   "outputs": [],
   "source": [
    "len(stopwords.words('english'))"
   ]
  },
  {
   "cell_type": "code",
   "execution_count": null,
   "metadata": {},
   "outputs": [],
   "source": [
    "classify_0_1(\"Hello\")"
   ]
  }
 ],
 "metadata": {
  "kernelspec": {
   "display_name": "Python 3.10.1 64-bit",
   "language": "python",
   "name": "python3"
  },
  "language_info": {
   "codemirror_mode": {
    "name": "ipython",
    "version": 3
   },
   "file_extension": ".py",
   "mimetype": "text/x-python",
   "name": "python",
   "nbconvert_exporter": "python",
   "pygments_lexer": "ipython3",
   "version": "3.10.1"
  },
  "orig_nbformat": 4,
  "vscode": {
   "interpreter": {
    "hash": "d3e10ef16274dd72e574b8fa73b58450b957d8421a2901baded3cca26fcf5dda"
   }
  }
 },
 "nbformat": 4,
 "nbformat_minor": 2
}
